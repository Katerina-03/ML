{
 "cells": [
  {
   "cell_type": "code",
   "execution_count": 1,
   "id": "initial_id",
   "metadata": {
    "collapsed": true,
    "ExecuteTime": {
     "end_time": "2023-12-20T01:44:28.264037800Z",
     "start_time": "2023-12-20T01:44:25.892337400Z"
    }
   },
   "outputs": [
    {
     "data": {
      "text/plain": "                      Category                                  Topic\ncount                      352                                    352\nunique                       5                                    294\ntop     Relationships and Love  Замужество - это обслуживание мужика?\nfreq                       138                                      4",
      "text/html": "<div>\n<style scoped>\n    .dataframe tbody tr th:only-of-type {\n        vertical-align: middle;\n    }\n\n    .dataframe tbody tr th {\n        vertical-align: top;\n    }\n\n    .dataframe thead th {\n        text-align: right;\n    }\n</style>\n<table border=\"1\" class=\"dataframe\">\n  <thead>\n    <tr style=\"text-align: right;\">\n      <th></th>\n      <th>Category</th>\n      <th>Topic</th>\n    </tr>\n  </thead>\n  <tbody>\n    <tr>\n      <th>count</th>\n      <td>352</td>\n      <td>352</td>\n    </tr>\n    <tr>\n      <th>unique</th>\n      <td>5</td>\n      <td>294</td>\n    </tr>\n    <tr>\n      <th>top</th>\n      <td>Relationships and Love</td>\n      <td>Замужество - это обслуживание мужика?</td>\n    </tr>\n    <tr>\n      <th>freq</th>\n      <td>138</td>\n      <td>4</td>\n    </tr>\n  </tbody>\n</table>\n</div>"
     },
     "execution_count": 1,
     "metadata": {},
     "output_type": "execute_result"
    }
   ],
   "source": [
    "import pandas as pd\n",
    "df = pd.read_csv('cluster_forumPostNames.csv')\n",
    "df.describe()"
   ]
  },
  {
   "cell_type": "code",
   "execution_count": 14,
   "outputs": [
    {
     "name": "stdout",
     "output_type": "stream",
     "text": [
      "Career and Finance Cluster: ['мужчиной', 'стали', 'прозревшим', 'вступать', 'отношения', '50', 'расстаться', 'женатым', 'помогите', '40тыс', 'заводить', 'зарплате', '35', 'принять', 'расходы', 'иностранцем', 'сложно', 'ребенка', 'девушки', 'мужа']\n",
      "Health and Wellness Cluster: ['мужчина', 'полов', 'муж', 'секс', 'жизнь', 'работа', 'отзывы', 'болезнь', 'это', 'против', 'равноправие', 'ринопластика', 'найти', 'лет', 'стюардессой', 'справляетесь', 'паркинсона', 'хочет', 'лечение', 'обслуживание']\n",
      "Parenting and Family Cluster: ['почему', 'детей', 'россии', 'женщины', 'рожать', 'хотеть', 'перестали', 'хочу', 'пары', 'финансово', 'женятся', 'молодые', 'рожают', 'несостоявшиеся', 'жить', 'плюсы', 'лет', 'форумчане', 'живёте', 'замужем']\n",
      "Relationships and Love Cluster: ['мужа', 'встречаете', 'работы', 'жена', 'ребенок', 'своего', 'укротить', 'партнеров', 'любовницей', 'любовницу', 'ищу', 'бороться', 'внебрачный', 'кастрировать', 'узнала', 'любовнице', 'моего', 'дочь', 'ненавидит', 'сколько']\n",
      "Societal Issues and Morality Cluster: ['мужчины', 'девушки', 'почему', 'женщин', 'девственницам', 'относятся', 'опытом', 'уверены', 'осуждающие', 'должны', 'сколько', 'жадные', 'верные', 'обеспеченные', 'нищие', 'одинокие', 'основном', 'сексуальное', 'вызывают', 'эротические']\n"
     ]
    }
   ],
   "source": [
    "from sklearn.feature_extraction.text import TfidfVectorizer\n",
    "from sklearn.cluster import KMeans\n",
    "import nltk\n",
    "from nltk.corpus import stopwords\n",
    "\n",
    "nltk.download('stopwords', quiet=True)\n",
    "russian_stop_words = stopwords.words('russian')\n",
    "\n",
    "texts = df['Topic'].tolist()\n",
    "\n",
    "#TF-IDF\n",
    "vectorizer = TfidfVectorizer(stop_words=russian_stop_words)\n",
    "X = vectorizer.fit_transform(texts)\n",
    "\n",
    "num_clusters = 5\n",
    "\n",
    "kmeans = KMeans(n_clusters=num_clusters, random_state=42, n_init=10)\n",
    "kmeans.fit(X)\n",
    "\n",
    "numeric_labels = kmeans.labels_\n",
    "\n",
    "label_mapping = {0: 'Career and Finance', 1: 'Health and Wellness', 2: 'Parenting and Family', 3: 'Relationships and Love', 4: 'Societal Issues and Morality'}\n",
    "\n",
    "desired_labels = [label_mapping[label] for label in numeric_labels]\n",
    "\n",
    "centroids = kmeans.cluster_centers_\n",
    "\n",
    "\n",
    "terms = vectorizer.get_feature_names_out()\n",
    "for i, centroid in enumerate(centroids):\n",
    "    top_terms_idx = centroid.argsort()[-20:][::-1]\n",
    "    top_terms = [terms[idx] for idx in top_terms_idx]\n",
    "    print(f\"{label_mapping[i]} Cluster: {top_terms}\")\n"
   ],
   "metadata": {
    "collapsed": false,
    "ExecuteTime": {
     "end_time": "2023-12-20T03:02:32.470578700Z",
     "start_time": "2023-12-20T03:02:32.266554900Z"
    }
   },
   "id": "b639dc6fc69733b1"
  },
  {
   "cell_type": "code",
   "execution_count": 18,
   "outputs": [
    {
     "name": "stdout",
     "output_type": "stream",
     "text": [
      "Train Accuracy: 1.0\n",
      "Train Precision: 1.0\n",
      "Train Recall: 1.0\n",
      "\n",
      "Test Accuracy: 1.0\n",
      "Test Precision: 1.0\n",
      "Test Recall: 1.0\n"
     ]
    }
   ],
   "source": [
    "#В этом коде x_train и x_test получаются с использованием train_test_split, который разбивает исходные данные X на обучающий и тестовый наборы. Затем кластеризация (kmeans.predict) выполняется отдельно для обучающего и тестового наборов, и метки кластеров сохраняются в y_train и y_test соответственно через all_predictions - это массив с предсказанными метками кластеров для всех данных X\n",
    "from sklearn.metrics import accuracy_score, precision_score, recall_score\n",
    "from sklearn.model_selection import train_test_split\n",
    "\n",
    "nltk.download('stopwords', quiet=True)\n",
    "russian_stop_words = stopwords.words('russian')\n",
    "\n",
    "def cluster_and_evaluate(X, num_clusters=5, test_size=0.4, random_state=42):\n",
    "\n",
    "    kmeans = KMeans(n_clusters=num_clusters, random_state=random_state, n_init=10)\n",
    "    kmeans.fit(X)\n",
    "\n",
    "    all_predictions = kmeans.predict(X)\n",
    "\n",
    "    x_train, x_test, y_train, y_test = train_test_split(X, all_predictions, test_size=test_size, random_state=random_state)\n",
    "\n",
    "    train_predictions = kmeans.predict(x_train)\n",
    "\n",
    "    test_predictions = kmeans.predict(x_test)\n",
    "\n",
    "    train_accuracy = accuracy_score(y_train, train_predictions)\n",
    "    train_precision = precision_score(y_train, train_predictions, average='weighted')\n",
    "    train_recall = recall_score(y_train, train_predictions, average='weighted')\n",
    "\n",
    "    test_accuracy = accuracy_score(y_test, test_predictions)\n",
    "    test_precision = precision_score(y_test, test_predictions, average='weighted')\n",
    "    test_recall = recall_score(y_test, test_predictions, average='weighted')\n",
    "\n",
    "    return train_accuracy, train_precision, train_recall, test_accuracy, test_precision, test_recall\n",
    "\n",
    "texts = df['Topic'].tolist()\n",
    "\n",
    "vectorizer = TfidfVectorizer(stop_words=russian_stop_words)\n",
    "X = vectorizer.fit_transform(texts)\n",
    "\n",
    "num_clusters = 5\n",
    "\n",
    "train_accuracy, train_precision, train_recall, test_accuracy, test_precision, test_recall = cluster_and_evaluate(X, num_clusters)\n",
    "\n",
    "print(\"Train Accuracy:\", train_accuracy)\n",
    "print(\"Train Precision:\", train_precision)\n",
    "print(\"Train Recall:\", train_recall)\n",
    "\n",
    "print(\"\\nTest Accuracy:\", test_accuracy)\n",
    "print(\"Test Precision:\", test_precision)\n",
    "print(\"Test Recall:\", test_recall)\n"
   ],
   "metadata": {
    "collapsed": false,
    "ExecuteTime": {
     "end_time": "2023-12-20T03:16:12.030065900Z",
     "start_time": "2023-12-20T03:16:11.810516300Z"
    }
   },
   "id": "9f3fe2b97388ad72"
  }
 ],
 "metadata": {
  "kernelspec": {
   "display_name": "Python 3",
   "language": "python",
   "name": "python3"
  },
  "language_info": {
   "codemirror_mode": {
    "name": "ipython",
    "version": 2
   },
   "file_extension": ".py",
   "mimetype": "text/x-python",
   "name": "python",
   "nbconvert_exporter": "python",
   "pygments_lexer": "ipython2",
   "version": "2.7.6"
  }
 },
 "nbformat": 4,
 "nbformat_minor": 5
}
